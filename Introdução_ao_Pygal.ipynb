{
  "nbformat": 4,
  "nbformat_minor": 0,
  "metadata": {
    "colab": {
      "name": "Introdução ao Pygal.ipynb",
      "provenance": [],
      "authorship_tag": "ABX9TyPdl82a+DzYLDlR24xiH3wQ",
      "include_colab_link": true
    },
    "kernelspec": {
      "name": "python3",
      "display_name": "Python 3"
    },
    "language_info": {
      "name": "python"
    }
  },
  "cells": [
    {
      "cell_type": "markdown",
      "metadata": {
        "id": "view-in-github",
        "colab_type": "text"
      },
      "source": [
        "<a href=\"https://colab.research.google.com/github/AndressaRodrigues/Exercicios_pygal/blob/main/Introdu%C3%A7%C3%A3o_ao_Pygal.ipynb\" target=\"_parent\"><img src=\"https://colab.research.google.com/assets/colab-badge.svg\" alt=\"Open In Colab\"/></a>"
      ]
    },
    {
      "cell_type": "code",
      "metadata": {
        "colab": {
          "base_uri": "https://localhost:8080/"
        },
        "id": "uUqM02jolzwq",
        "outputId": "54a3a9fc-9e23-42fb-d607-0db9586f0359"
      },
      "source": [
        "!pip install pygal"
      ],
      "execution_count": 1,
      "outputs": [
        {
          "output_type": "stream",
          "text": [
            "Requirement already satisfied: pygal in /usr/local/lib/python3.7/dist-packages (2.4.0)\n"
          ],
          "name": "stdout"
        }
      ]
    },
    {
      "cell_type": "code",
      "metadata": {
        "id": "gcwMfK36l8Ic"
      },
      "source": [
        "from random import randint\n",
        "\n",
        "class Die():\n",
        "    #uma classse que representa um único dado\n",
        "\n",
        "    def __init__(self, num_sides=6):\n",
        "      #define o número de lados\n",
        "      self.num_sides = num_sides\n",
        "\n",
        "    def roll(self):\n",
        "      #rola o dado e devolve um valor aleatório\n",
        "      return randint(1, self.num_sides)"
      ],
      "execution_count": 2,
      "outputs": []
    },
    {
      "cell_type": "markdown",
      "metadata": {
        "id": "51OoKHUgr_mc"
      },
      "source": [
        "##Lançamento de 1 dado de 6 faces\n",
        "\n",
        "\n",
        "\n"
      ]
    },
    {
      "cell_type": "code",
      "metadata": {
        "colab": {
          "base_uri": "https://localhost:8080/"
        },
        "id": "iioEmEGUmiDK",
        "outputId": "2078002d-ab37-42e5-b8e4-0dd6a9df5fcd"
      },
      "source": [
        "# criando um dado de 6 lados\n",
        "die = Die()\n",
        "\n",
        "#faz alguns lançamentos e anota em uma lista\n",
        "\n",
        "results = []\n",
        "\n",
        "\n",
        "for roll_num in range(10000):\n",
        "  result = die.roll()\n",
        "  results.append(result)\n",
        "\n",
        "\n",
        "#analisa os resultados\n",
        "\n",
        "frequencies = []\n",
        "\n",
        "for value in range(1, die.num_sides+1):\n",
        "  frequency = results.count(value)\n",
        "  frequencies.append(frequency)\n",
        "\n",
        "print(frequencies)"
      ],
      "execution_count": 3,
      "outputs": [
        {
          "output_type": "stream",
          "text": [
            "[1685, 1695, 1593, 1697, 1651, 1679]\n"
          ],
          "name": "stdout"
        }
      ]
    },
    {
      "cell_type": "code",
      "metadata": {
        "id": "zXsr-aano8om"
      },
      "source": [
        "import pygal\n",
        "#criando um visualização para os resultados\n",
        "\n",
        "hist = pygal.Bar()\n",
        "\n",
        "hist.title = \"Resultados de 10 mil lançamentos de um dados de 6 faces\"\n",
        "hist.x_labels = ['1', '2', '3', '4', '5', '6']\n",
        "hist.x_title = 'Resultado'\n",
        "hist.y_title = 'Frequencia de resultados'\n",
        "\n",
        "hist.add('D6', frequencies)\n",
        "hist.render_to_file('die_visuals.svg')"
      ],
      "execution_count": 7,
      "outputs": []
    },
    {
      "cell_type": "markdown",
      "metadata": {
        "id": "YetHhSw5sIDD"
      },
      "source": [
        "##Lançamento de 2 dados de 6 faces"
      ]
    },
    {
      "cell_type": "code",
      "metadata": {
        "id": "tF-LPKiQrejq"
      },
      "source": [
        "die_1 = Die()\n",
        "die_2 = Die()\n",
        "\n",
        "resultados = []\n",
        "\n",
        "\n",
        "for roll_num in range(10000):\n",
        "  result = die_1.roll() + die_2.roll()\n",
        "  resultados.append(result)\n",
        "\n",
        "\n",
        "#analisa os resultados\n",
        "\n",
        "max_result = die_1.num_sides + die_2.num_sides\n",
        "frequencias = []\n",
        "\n",
        "for value in range(2, max_result+1):\n",
        "  frequency = resultados.count(value)\n",
        "  frequencias.append(frequency)\n",
        "\n",
        "#cria o gráfico\n",
        "hist = pygal.Bar()\n",
        "\n",
        "hist.title = \"Resultados de 10 mil lançamentos de dois dados de 6 faces\"\n",
        "hist.x_labels = ['2', '3', '4', '5', '6', '7', '8', '9', '10', '11', '12']\n",
        "hist.x_title = 'Resultado'\n",
        "hist.y_title = 'Frequencia de resultados'\n",
        "\n",
        "hist.add('D6 + D6', frequencias)\n",
        "hist.render_to_file('dice_visuals.svg')"
      ],
      "execution_count": 9,
      "outputs": []
    },
    {
      "cell_type": "markdown",
      "metadata": {
        "id": "J-cbKasZvYip"
      },
      "source": [
        "##Lançando dados de tamanhos diferentes"
      ]
    },
    {
      "cell_type": "code",
      "metadata": {
        "id": "c8H6amq3vBrq"
      },
      "source": [
        "#cria um dado de 6 faces e outro de 10 faces\n",
        "die_1 = Die()\n",
        "die_2 = Die(10)\n",
        "\n",
        "resultados = []\n",
        "\n",
        "\n",
        "for roll_num in range(500000):\n",
        "  result = die_1.roll() + die_2.roll()\n",
        "  resultados.append(result)\n",
        "\n",
        "\n",
        "#analisa os resultados\n",
        "\n",
        "max_result = die_1.num_sides + die_2.num_sides\n",
        "frequencias = []\n",
        "\n",
        "for value in range(2, max_result+1):\n",
        "  frequency = resultados.count(value)\n",
        "  frequencias.append(frequency)\n",
        "\n",
        "#cria o gráfico\n",
        "hist = pygal.Bar()\n",
        "\n",
        "hist.title = \"Resultados de 500 mil lançamentos de um D6 e um D10\"\n",
        "hist.x_labels = ['2', '3', '4', '5', '6', '7', '8', '9', '10', '11', '12', '13', '14', '15', '16']\n",
        "hist.x_title = 'Resultado'\n",
        "hist.y_title = 'Frequencia de resultados'\n",
        "\n",
        "hist.add('D6 + D10', frequencias)\n",
        "hist.render_to_file('d6_d10_visuals.svg')"
      ],
      "execution_count": 10,
      "outputs": []
    },
    {
      "cell_type": "code",
      "metadata": {
        "id": "Q83lDa78wFXX"
      },
      "source": [
        ""
      ],
      "execution_count": null,
      "outputs": []
    }
  ]
}